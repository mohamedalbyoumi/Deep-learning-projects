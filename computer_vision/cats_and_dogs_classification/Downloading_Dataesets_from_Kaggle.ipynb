{
  "nbformat": 4,
  "nbformat_minor": 0,
  "metadata": {
    "colab": {
      "provenance": []
    },
    "kernelspec": {
      "name": "python3",
      "display_name": "Python 3"
    },
    "language_info": {
      "name": "python"
    }
  },
  "cells": [
    {
      "cell_type": "markdown",
      "source": [
        "### ----------------------------------------------------------------------------__بسم الله الرحمن الرحيم__---------------------------------------------------------------------------------"
      ],
      "metadata": {
        "id": "OsRGn6gX-ewS"
      }
    },
    {
      "cell_type": "markdown",
      "source": [
        "### __Downloading Dataesets from Kaggle__"
      ],
      "metadata": {
        "id": "NybkY7LL81sx"
      }
    },
    {
      "cell_type": "markdown",
      "source": [
        "#####__This notebook downloads notebooks from Kaggle into your google drive account.__\n",
        "\n",
        "In this notebook:\n",
        "\n",
        "  • you are asked to enter the relative path to your desired dataset on Kaggle.\n",
        "\n",
        "  • you are asked to give mount permission to the google drive account you want the dataset to be downloaded into.\n",
        "\n",
        "  • you are asked to put the token file in the dataset directory before downloading the dataset."
      ],
      "metadata": {
        "id": "3spohDIs0OrJ"
      }
    },
    {
      "cell_type": "code",
      "source": [
        "fullpath = input(\"enter the relative path to your desired dataset on Kaggle: \")"
      ],
      "metadata": {
        "colab": {
          "base_uri": "https://localhost:8080/"
        },
        "id": "AutFiYfE0Cth",
        "outputId": "17d27184-7bc2-484f-bd7d-9730496012f6"
      },
      "execution_count": null,
      "outputs": [
        {
          "name": "stdout",
          "output_type": "stream",
          "text": [
            "enter the relative path to your desired dataset on Kaggle: https://www.kaggle.com/competitions/cassava-leaf-disease-classification\n"
          ]
        }
      ]
    },
    {
      "cell_type": "markdown",
      "metadata": {
        "id": "uLC-5Jl_nY2n"
      },
      "source": [
        "##### __Downloading your notebook from Kaggle into your google drive account.__\n"
      ]
    },
    {
      "cell_type": "code",
      "metadata": {
        "id": "vlXypeYXmCB-",
        "colab": {
          "base_uri": "https://localhost:8080/"
        },
        "outputId": "fe53b7de-6b5b-4aff-e706-28454ed908fa"
      },
      "source": [
        "#installing Kaggle\n",
        "!pip install kaggle"
      ],
      "execution_count": null,
      "outputs": [
        {
          "output_type": "stream",
          "name": "stdout",
          "text": [
            "Requirement already satisfied: kaggle in /usr/local/lib/python3.10/dist-packages (1.5.13)\n",
            "Requirement already satisfied: six>=1.10 in /usr/local/lib/python3.10/dist-packages (from kaggle) (1.16.0)\n",
            "Requirement already satisfied: certifi in /usr/local/lib/python3.10/dist-packages (from kaggle) (2023.5.7)\n",
            "Requirement already satisfied: python-dateutil in /usr/local/lib/python3.10/dist-packages (from kaggle) (2.8.2)\n",
            "Requirement already satisfied: requests in /usr/local/lib/python3.10/dist-packages (from kaggle) (2.27.1)\n",
            "Requirement already satisfied: tqdm in /usr/local/lib/python3.10/dist-packages (from kaggle) (4.65.0)\n",
            "Requirement already satisfied: python-slugify in /usr/local/lib/python3.10/dist-packages (from kaggle) (8.0.1)\n",
            "Requirement already satisfied: urllib3 in /usr/local/lib/python3.10/dist-packages (from kaggle) (1.26.16)\n",
            "Requirement already satisfied: text-unidecode>=1.3 in /usr/local/lib/python3.10/dist-packages (from python-slugify->kaggle) (1.3)\n",
            "Requirement already satisfied: charset-normalizer~=2.0.0 in /usr/local/lib/python3.10/dist-packages (from requests->kaggle) (2.0.12)\n",
            "Requirement already satisfied: idna<4,>=2.5 in /usr/local/lib/python3.10/dist-packages (from requests->kaggle) (3.4)\n"
          ]
        }
      ]
    },
    {
      "cell_type": "code",
      "source": [
        "#mounting your account on google drive\n",
        "from google.colab import drive\n",
        "drive.mount('/content/drive')"
      ],
      "metadata": {
        "colab": {
          "base_uri": "https://localhost:8080/"
        },
        "id": "W_CVTpOnX-CN",
        "outputId": "b9992605-dc7d-4444-d857-4d015d486286"
      },
      "execution_count": null,
      "outputs": [
        {
          "output_type": "stream",
          "name": "stdout",
          "text": [
            "Mounted at /content/drive\n"
          ]
        }
      ]
    },
    {
      "cell_type": "code",
      "metadata": {
        "id": "vvCe8cYctd3k"
      },
      "source": [
        "#creating a directory to your dataset in your google drive account\n",
        "import os\n",
        "os.environ['KAGGLE_CONFIG_DIR']='/content/drive/MyDrive/kaggle_dataset'"
      ],
      "execution_count": null,
      "outputs": []
    },
    {
      "cell_type": "code",
      "source": [
        "# Download the kaggle file from kaggle website and upload it into drive in '/content/drive/MyDrive/kaggle_dataset'\n",
        "path=fullpath.split(\"/\")[0]\n",
        "name=fullpath.split(\"/\")[1]"
      ],
      "metadata": {
        "id": "6EMg-rTYVtoW"
      },
      "execution_count": null,
      "outputs": []
    },
    {
      "cell_type": "code",
      "metadata": {
        "colab": {
          "base_uri": "https://localhost:8080/"
        },
        "id": "t2FkI45Ct14I",
        "outputId": "0ea03608-fed2-44a9-8052-9231e443933e"
      },
      "source": [
        "#accessing the path to your dataset\n",
        "%cd /content/drive/MyDrive/kaggle_dataset"
      ],
      "execution_count": null,
      "outputs": [
        {
          "output_type": "stream",
          "name": "stdout",
          "text": [
            "/content/drive/MyDrive/kaggle_dataset\n"
          ]
        }
      ]
    },
    {
      "cell_type": "code",
      "source": [
        "# make sure that the file is here\n",
        "!ls"
      ],
      "metadata": {
        "colab": {
          "base_uri": "https://localhost:8080/"
        },
        "id": "GGtdhBGjC-Cz",
        "outputId": "22f8460b-4a2a-4054-9564-a21086e170f2"
      },
      "execution_count": null,
      "outputs": [
        {
          "output_type": "stream",
          "name": "stdout",
          "text": [
            "cat-and-dog  kaggle.json\n"
          ]
        }
      ]
    },
    {
      "cell_type": "code",
      "source": [
        "!chmod 600 /content/drive/MyDrive/kaggle/kaggle.json"
      ],
      "metadata": {
        "id": "4IwmJPznj9Nl"
      },
      "execution_count": null,
      "outputs": []
    },
    {
      "cell_type": "code",
      "metadata": {
        "colab": {
          "base_uri": "https://localhost:8080/"
        },
        "id": "8Vx-p9vXmWI6",
        "outputId": "5e40baad-67d8-47f8-9e89-88b95be6c027"
      },
      "source": [
        "#downloading the dataset\n",
        "!kaggle datasets download -d {fullpath}"
      ],
      "execution_count": null,
      "outputs": [
        {
          "output_type": "stream",
          "name": "stdout",
          "text": [
            "Invalid dataset specification https://www.kaggle.com/competitions/cassava-leaf-disease-classification\n"
          ]
        }
      ]
    },
    {
      "cell_type": "code",
      "source": [
        "!kaggle competitions download -c cassava-leaf-disease-classification"
      ],
      "metadata": {
        "colab": {
          "base_uri": "https://localhost:8080/"
        },
        "id": "crAZQhpoiXqA",
        "outputId": "221e990b-085e-45fc-ec8e-bacabe6b10e4"
      },
      "execution_count": null,
      "outputs": [
        {
          "output_type": "stream",
          "name": "stdout",
          "text": [
            "401 - Unauthorized\n"
          ]
        }
      ]
    },
    {
      "cell_type": "code",
      "metadata": {
        "id": "GUqCsampubcL",
        "colab": {
          "base_uri": "https://localhost:8080/"
        },
        "outputId": "3d838909-598f-4f48-e9da-1c6b2de707da"
      },
      "source": [
        "#moving the zip file into dataset directory to unzip it there\n",
        "!mkdir {name}\n",
        "!mv {name+\".zip\"} {name}"
      ],
      "execution_count": null,
      "outputs": [
        {
          "output_type": "stream",
          "name": "stdout",
          "text": [
            "mkdir: cannot create directory ‘cat-and-dog’: File exists\n"
          ]
        }
      ]
    },
    {
      "cell_type": "code",
      "metadata": {
        "colab": {
          "base_uri": "https://localhost:8080/"
        },
        "id": "CdAZjmyou1A-",
        "outputId": "1ea97ef7-31b7-4b14-a7c3-ec75e096a5f0"
      },
      "source": [
        "#moving into the directory\n",
        "%cd {name}/"
      ],
      "execution_count": null,
      "outputs": [
        {
          "output_type": "stream",
          "name": "stdout",
          "text": [
            "/content/drive/MyDrive/kaggle_dataset/cat-and-dog\n"
          ]
        }
      ]
    },
    {
      "cell_type": "code",
      "metadata": {
        "id": "tEXT717Qu9EM"
      },
      "source": [
        "#unzipping\n",
        "!unzip {name}"
      ],
      "execution_count": null,
      "outputs": []
    },
    {
      "cell_type": "markdown",
      "source": [
        "### --------------------------------------------------------------------------------__تمت بحمد الله__--------------------------------------------------------------------------------------"
      ],
      "metadata": {
        "id": "GHElm_kA9PtD"
      }
    }
  ]
}